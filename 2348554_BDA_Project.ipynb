{
  "nbformat": 4,
  "nbformat_minor": 0,
  "metadata": {
    "colab": {
      "provenance": []
    },
    "kernelspec": {
      "name": "python3",
      "display_name": "Python 3"
    },
    "language_info": {
      "name": "python"
    }
  },
  "cells": [
    {
      "cell_type": "code",
      "execution_count": 1,
      "metadata": {
        "id": "GGiCiVVE84SJ"
      },
      "outputs": [],
      "source": [
        "import pandas as pd"
      ]
    },
    {
      "cell_type": "code",
      "source": [
        "data = pd.read_csv(\"/content/TEH_World_Happiness_2015_2019_Imputed.csv\")"
      ],
      "metadata": {
        "id": "e3Z7x--HARJV"
      },
      "execution_count": 2,
      "outputs": []
    },
    {
      "cell_type": "code",
      "source": [
        "data.info()"
      ],
      "metadata": {
        "colab": {
          "base_uri": "https://localhost:8080/"
        },
        "id": "3MjBZOqPAdNj",
        "outputId": "e1448d52-f212-4668-ee53-361ec3a0c0f8"
      },
      "execution_count": 3,
      "outputs": [
        {
          "output_type": "stream",
          "name": "stdout",
          "text": [
            "<class 'pandas.core.frame.DataFrame'>\n",
            "RangeIndex: 782 entries, 0 to 781\n",
            "Data columns (total 10 columns):\n",
            " #   Column           Non-Null Count  Dtype  \n",
            "---  ------           --------------  -----  \n",
            " 0   Country          782 non-null    object \n",
            " 1   Happiness rank   782 non-null    int64  \n",
            " 2   Happiness Score  782 non-null    float64\n",
            " 3   GDP per capita   777 non-null    float64\n",
            " 4   Social support   777 non-null    float64\n",
            " 5   Healthy life     777 non-null    float64\n",
            " 6   Freedom          777 non-null    float64\n",
            " 7   Generosity       777 non-null    float64\n",
            " 8   Corruption       775 non-null    float64\n",
            " 9   Year             782 non-null    int64  \n",
            "dtypes: float64(7), int64(2), object(1)\n",
            "memory usage: 61.2+ KB\n"
          ]
        }
      ]
    },
    {
      "cell_type": "code",
      "source": [
        "data.describe()"
      ],
      "metadata": {
        "colab": {
          "base_uri": "https://localhost:8080/",
          "height": 300
        },
        "id": "gPAlldPBAeg4",
        "outputId": "9979d30a-60de-460e-d086-a387699778a0"
      },
      "execution_count": 4,
      "outputs": [
        {
          "output_type": "execute_result",
          "data": {
            "text/plain": [
              "       Happiness rank  Happiness Score  GDP per capita  Social support  \\\n",
              "count      782.000000       782.000000      777.000000      777.000000   \n",
              "mean        78.698210         5.379018        0.921942        1.085332   \n",
              "std         45.182384         1.127456        0.401937        0.318999   \n",
              "min          1.000000         2.693000        0.015300        0.104190   \n",
              "25%         40.000000         4.509750        0.619000        0.871190   \n",
              "50%         79.000000         5.322000        0.985000        1.125000   \n",
              "75%        118.000000         6.189500        1.238000        1.330000   \n",
              "max        158.000000         7.769000        2.096000        1.644000   \n",
              "\n",
              "       Healthy life     Freedom  Generosity  Corruption         Year  \n",
              "count    777.000000  777.000000  777.000000  775.000000   782.000000  \n",
              "mean       0.616356    0.413736    0.219982    0.126407  2016.993606  \n",
              "std        0.244177    0.149757    0.121445    0.105646     1.417364  \n",
              "min        0.005565    0.005890    0.001990    0.001000  2015.000000  \n",
              "25%        0.443000    0.312000    0.133520    0.055000  2016.000000  \n",
              "50%        0.649547    0.432453    0.202000    0.092000  2017.000000  \n",
              "75%        0.809158    0.531220    0.279920    0.156352  2018.000000  \n",
              "max        1.141000    0.724000    0.838075    0.551910  2019.000000  "
            ],
            "text/html": [
              "\n",
              "  <div id=\"df-67617c78-d817-43bf-81b4-8ea38469fc6a\" class=\"colab-df-container\">\n",
              "    <div>\n",
              "<style scoped>\n",
              "    .dataframe tbody tr th:only-of-type {\n",
              "        vertical-align: middle;\n",
              "    }\n",
              "\n",
              "    .dataframe tbody tr th {\n",
              "        vertical-align: top;\n",
              "    }\n",
              "\n",
              "    .dataframe thead th {\n",
              "        text-align: right;\n",
              "    }\n",
              "</style>\n",
              "<table border=\"1\" class=\"dataframe\">\n",
              "  <thead>\n",
              "    <tr style=\"text-align: right;\">\n",
              "      <th></th>\n",
              "      <th>Happiness rank</th>\n",
              "      <th>Happiness Score</th>\n",
              "      <th>GDP per capita</th>\n",
              "      <th>Social support</th>\n",
              "      <th>Healthy life</th>\n",
              "      <th>Freedom</th>\n",
              "      <th>Generosity</th>\n",
              "      <th>Corruption</th>\n",
              "      <th>Year</th>\n",
              "    </tr>\n",
              "  </thead>\n",
              "  <tbody>\n",
              "    <tr>\n",
              "      <th>count</th>\n",
              "      <td>782.000000</td>\n",
              "      <td>782.000000</td>\n",
              "      <td>777.000000</td>\n",
              "      <td>777.000000</td>\n",
              "      <td>777.000000</td>\n",
              "      <td>777.000000</td>\n",
              "      <td>777.000000</td>\n",
              "      <td>775.000000</td>\n",
              "      <td>782.000000</td>\n",
              "    </tr>\n",
              "    <tr>\n",
              "      <th>mean</th>\n",
              "      <td>78.698210</td>\n",
              "      <td>5.379018</td>\n",
              "      <td>0.921942</td>\n",
              "      <td>1.085332</td>\n",
              "      <td>0.616356</td>\n",
              "      <td>0.413736</td>\n",
              "      <td>0.219982</td>\n",
              "      <td>0.126407</td>\n",
              "      <td>2016.993606</td>\n",
              "    </tr>\n",
              "    <tr>\n",
              "      <th>std</th>\n",
              "      <td>45.182384</td>\n",
              "      <td>1.127456</td>\n",
              "      <td>0.401937</td>\n",
              "      <td>0.318999</td>\n",
              "      <td>0.244177</td>\n",
              "      <td>0.149757</td>\n",
              "      <td>0.121445</td>\n",
              "      <td>0.105646</td>\n",
              "      <td>1.417364</td>\n",
              "    </tr>\n",
              "    <tr>\n",
              "      <th>min</th>\n",
              "      <td>1.000000</td>\n",
              "      <td>2.693000</td>\n",
              "      <td>0.015300</td>\n",
              "      <td>0.104190</td>\n",
              "      <td>0.005565</td>\n",
              "      <td>0.005890</td>\n",
              "      <td>0.001990</td>\n",
              "      <td>0.001000</td>\n",
              "      <td>2015.000000</td>\n",
              "    </tr>\n",
              "    <tr>\n",
              "      <th>25%</th>\n",
              "      <td>40.000000</td>\n",
              "      <td>4.509750</td>\n",
              "      <td>0.619000</td>\n",
              "      <td>0.871190</td>\n",
              "      <td>0.443000</td>\n",
              "      <td>0.312000</td>\n",
              "      <td>0.133520</td>\n",
              "      <td>0.055000</td>\n",
              "      <td>2016.000000</td>\n",
              "    </tr>\n",
              "    <tr>\n",
              "      <th>50%</th>\n",
              "      <td>79.000000</td>\n",
              "      <td>5.322000</td>\n",
              "      <td>0.985000</td>\n",
              "      <td>1.125000</td>\n",
              "      <td>0.649547</td>\n",
              "      <td>0.432453</td>\n",
              "      <td>0.202000</td>\n",
              "      <td>0.092000</td>\n",
              "      <td>2017.000000</td>\n",
              "    </tr>\n",
              "    <tr>\n",
              "      <th>75%</th>\n",
              "      <td>118.000000</td>\n",
              "      <td>6.189500</td>\n",
              "      <td>1.238000</td>\n",
              "      <td>1.330000</td>\n",
              "      <td>0.809158</td>\n",
              "      <td>0.531220</td>\n",
              "      <td>0.279920</td>\n",
              "      <td>0.156352</td>\n",
              "      <td>2018.000000</td>\n",
              "    </tr>\n",
              "    <tr>\n",
              "      <th>max</th>\n",
              "      <td>158.000000</td>\n",
              "      <td>7.769000</td>\n",
              "      <td>2.096000</td>\n",
              "      <td>1.644000</td>\n",
              "      <td>1.141000</td>\n",
              "      <td>0.724000</td>\n",
              "      <td>0.838075</td>\n",
              "      <td>0.551910</td>\n",
              "      <td>2019.000000</td>\n",
              "    </tr>\n",
              "  </tbody>\n",
              "</table>\n",
              "</div>\n",
              "    <div class=\"colab-df-buttons\">\n",
              "\n",
              "  <div class=\"colab-df-container\">\n",
              "    <button class=\"colab-df-convert\" onclick=\"convertToInteractive('df-67617c78-d817-43bf-81b4-8ea38469fc6a')\"\n",
              "            title=\"Convert this dataframe to an interactive table.\"\n",
              "            style=\"display:none;\">\n",
              "\n",
              "  <svg xmlns=\"http://www.w3.org/2000/svg\" height=\"24px\" viewBox=\"0 -960 960 960\">\n",
              "    <path d=\"M120-120v-720h720v720H120Zm60-500h600v-160H180v160Zm220 220h160v-160H400v160Zm0 220h160v-160H400v160ZM180-400h160v-160H180v160Zm440 0h160v-160H620v160ZM180-180h160v-160H180v160Zm440 0h160v-160H620v160Z\"/>\n",
              "  </svg>\n",
              "    </button>\n",
              "\n",
              "  <style>\n",
              "    .colab-df-container {\n",
              "      display:flex;\n",
              "      gap: 12px;\n",
              "    }\n",
              "\n",
              "    .colab-df-convert {\n",
              "      background-color: #E8F0FE;\n",
              "      border: none;\n",
              "      border-radius: 50%;\n",
              "      cursor: pointer;\n",
              "      display: none;\n",
              "      fill: #1967D2;\n",
              "      height: 32px;\n",
              "      padding: 0 0 0 0;\n",
              "      width: 32px;\n",
              "    }\n",
              "\n",
              "    .colab-df-convert:hover {\n",
              "      background-color: #E2EBFA;\n",
              "      box-shadow: 0px 1px 2px rgba(60, 64, 67, 0.3), 0px 1px 3px 1px rgba(60, 64, 67, 0.15);\n",
              "      fill: #174EA6;\n",
              "    }\n",
              "\n",
              "    .colab-df-buttons div {\n",
              "      margin-bottom: 4px;\n",
              "    }\n",
              "\n",
              "    [theme=dark] .colab-df-convert {\n",
              "      background-color: #3B4455;\n",
              "      fill: #D2E3FC;\n",
              "    }\n",
              "\n",
              "    [theme=dark] .colab-df-convert:hover {\n",
              "      background-color: #434B5C;\n",
              "      box-shadow: 0px 1px 3px 1px rgba(0, 0, 0, 0.15);\n",
              "      filter: drop-shadow(0px 1px 2px rgba(0, 0, 0, 0.3));\n",
              "      fill: #FFFFFF;\n",
              "    }\n",
              "  </style>\n",
              "\n",
              "    <script>\n",
              "      const buttonEl =\n",
              "        document.querySelector('#df-67617c78-d817-43bf-81b4-8ea38469fc6a button.colab-df-convert');\n",
              "      buttonEl.style.display =\n",
              "        google.colab.kernel.accessAllowed ? 'block' : 'none';\n",
              "\n",
              "      async function convertToInteractive(key) {\n",
              "        const element = document.querySelector('#df-67617c78-d817-43bf-81b4-8ea38469fc6a');\n",
              "        const dataTable =\n",
              "          await google.colab.kernel.invokeFunction('convertToInteractive',\n",
              "                                                    [key], {});\n",
              "        if (!dataTable) return;\n",
              "\n",
              "        const docLinkHtml = 'Like what you see? Visit the ' +\n",
              "          '<a target=\"_blank\" href=https://colab.research.google.com/notebooks/data_table.ipynb>data table notebook</a>'\n",
              "          + ' to learn more about interactive tables.';\n",
              "        element.innerHTML = '';\n",
              "        dataTable['output_type'] = 'display_data';\n",
              "        await google.colab.output.renderOutput(dataTable, element);\n",
              "        const docLink = document.createElement('div');\n",
              "        docLink.innerHTML = docLinkHtml;\n",
              "        element.appendChild(docLink);\n",
              "      }\n",
              "    </script>\n",
              "  </div>\n",
              "\n",
              "\n",
              "<div id=\"df-7d2ccc63-e057-4b2b-8f78-c0219356f1a3\">\n",
              "  <button class=\"colab-df-quickchart\" onclick=\"quickchart('df-7d2ccc63-e057-4b2b-8f78-c0219356f1a3')\"\n",
              "            title=\"Suggest charts\"\n",
              "            style=\"display:none;\">\n",
              "\n",
              "<svg xmlns=\"http://www.w3.org/2000/svg\" height=\"24px\"viewBox=\"0 0 24 24\"\n",
              "     width=\"24px\">\n",
              "    <g>\n",
              "        <path d=\"M19 3H5c-1.1 0-2 .9-2 2v14c0 1.1.9 2 2 2h14c1.1 0 2-.9 2-2V5c0-1.1-.9-2-2-2zM9 17H7v-7h2v7zm4 0h-2V7h2v10zm4 0h-2v-4h2v4z\"/>\n",
              "    </g>\n",
              "</svg>\n",
              "  </button>\n",
              "\n",
              "<style>\n",
              "  .colab-df-quickchart {\n",
              "      --bg-color: #E8F0FE;\n",
              "      --fill-color: #1967D2;\n",
              "      --hover-bg-color: #E2EBFA;\n",
              "      --hover-fill-color: #174EA6;\n",
              "      --disabled-fill-color: #AAA;\n",
              "      --disabled-bg-color: #DDD;\n",
              "  }\n",
              "\n",
              "  [theme=dark] .colab-df-quickchart {\n",
              "      --bg-color: #3B4455;\n",
              "      --fill-color: #D2E3FC;\n",
              "      --hover-bg-color: #434B5C;\n",
              "      --hover-fill-color: #FFFFFF;\n",
              "      --disabled-bg-color: #3B4455;\n",
              "      --disabled-fill-color: #666;\n",
              "  }\n",
              "\n",
              "  .colab-df-quickchart {\n",
              "    background-color: var(--bg-color);\n",
              "    border: none;\n",
              "    border-radius: 50%;\n",
              "    cursor: pointer;\n",
              "    display: none;\n",
              "    fill: var(--fill-color);\n",
              "    height: 32px;\n",
              "    padding: 0;\n",
              "    width: 32px;\n",
              "  }\n",
              "\n",
              "  .colab-df-quickchart:hover {\n",
              "    background-color: var(--hover-bg-color);\n",
              "    box-shadow: 0 1px 2px rgba(60, 64, 67, 0.3), 0 1px 3px 1px rgba(60, 64, 67, 0.15);\n",
              "    fill: var(--button-hover-fill-color);\n",
              "  }\n",
              "\n",
              "  .colab-df-quickchart-complete:disabled,\n",
              "  .colab-df-quickchart-complete:disabled:hover {\n",
              "    background-color: var(--disabled-bg-color);\n",
              "    fill: var(--disabled-fill-color);\n",
              "    box-shadow: none;\n",
              "  }\n",
              "\n",
              "  .colab-df-spinner {\n",
              "    border: 2px solid var(--fill-color);\n",
              "    border-color: transparent;\n",
              "    border-bottom-color: var(--fill-color);\n",
              "    animation:\n",
              "      spin 1s steps(1) infinite;\n",
              "  }\n",
              "\n",
              "  @keyframes spin {\n",
              "    0% {\n",
              "      border-color: transparent;\n",
              "      border-bottom-color: var(--fill-color);\n",
              "      border-left-color: var(--fill-color);\n",
              "    }\n",
              "    20% {\n",
              "      border-color: transparent;\n",
              "      border-left-color: var(--fill-color);\n",
              "      border-top-color: var(--fill-color);\n",
              "    }\n",
              "    30% {\n",
              "      border-color: transparent;\n",
              "      border-left-color: var(--fill-color);\n",
              "      border-top-color: var(--fill-color);\n",
              "      border-right-color: var(--fill-color);\n",
              "    }\n",
              "    40% {\n",
              "      border-color: transparent;\n",
              "      border-right-color: var(--fill-color);\n",
              "      border-top-color: var(--fill-color);\n",
              "    }\n",
              "    60% {\n",
              "      border-color: transparent;\n",
              "      border-right-color: var(--fill-color);\n",
              "    }\n",
              "    80% {\n",
              "      border-color: transparent;\n",
              "      border-right-color: var(--fill-color);\n",
              "      border-bottom-color: var(--fill-color);\n",
              "    }\n",
              "    90% {\n",
              "      border-color: transparent;\n",
              "      border-bottom-color: var(--fill-color);\n",
              "    }\n",
              "  }\n",
              "</style>\n",
              "\n",
              "  <script>\n",
              "    async function quickchart(key) {\n",
              "      const quickchartButtonEl =\n",
              "        document.querySelector('#' + key + ' button');\n",
              "      quickchartButtonEl.disabled = true;  // To prevent multiple clicks.\n",
              "      quickchartButtonEl.classList.add('colab-df-spinner');\n",
              "      try {\n",
              "        const charts = await google.colab.kernel.invokeFunction(\n",
              "            'suggestCharts', [key], {});\n",
              "      } catch (error) {\n",
              "        console.error('Error during call to suggestCharts:', error);\n",
              "      }\n",
              "      quickchartButtonEl.classList.remove('colab-df-spinner');\n",
              "      quickchartButtonEl.classList.add('colab-df-quickchart-complete');\n",
              "    }\n",
              "    (() => {\n",
              "      let quickchartButtonEl =\n",
              "        document.querySelector('#df-7d2ccc63-e057-4b2b-8f78-c0219356f1a3 button');\n",
              "      quickchartButtonEl.style.display =\n",
              "        google.colab.kernel.accessAllowed ? 'block' : 'none';\n",
              "    })();\n",
              "  </script>\n",
              "</div>\n",
              "    </div>\n",
              "  </div>\n"
            ],
            "application/vnd.google.colaboratory.intrinsic+json": {
              "type": "dataframe",
              "summary": "{\n  \"name\": \"data\",\n  \"rows\": 8,\n  \"fields\": [\n    {\n      \"column\": \"Happiness rank\",\n      \"properties\": {\n        \"dtype\": \"number\",\n        \"std\": 254.84651428688028,\n        \"min\": 1.0,\n        \"max\": 782.0,\n        \"num_unique_values\": 8,\n        \"samples\": [\n          78.69820971867007,\n          79.0,\n          782.0\n        ],\n        \"semantic_type\": \"\",\n        \"description\": \"\"\n      }\n    },\n    {\n      \"column\": \"Happiness Score\",\n      \"properties\": {\n        \"dtype\": \"number\",\n        \"std\": 274.820137199722,\n        \"min\": 1.127456460161851,\n        \"max\": 782.0,\n        \"num_unique_values\": 8,\n        \"samples\": [\n          5.379017902998722,\n          5.322,\n          782.0\n        ],\n        \"semantic_type\": \"\",\n        \"description\": \"\"\n      }\n    },\n    {\n      \"column\": \"GDP per capita\",\n      \"properties\": {\n        \"dtype\": \"number\",\n        \"std\": 274.39463201341437,\n        \"min\": 0.0153,\n        \"max\": 777.0,\n        \"num_unique_values\": 8,\n        \"samples\": [\n          0.9219422539202059,\n          0.985,\n          777.0\n        ],\n        \"semantic_type\": \"\",\n        \"description\": \"\"\n      }\n    },\n    {\n      \"column\": \"Social support\",\n      \"properties\": {\n        \"dtype\": \"number\",\n        \"std\": 274.3842262833109,\n        \"min\": 0.10419,\n        \"max\": 777.0,\n        \"num_unique_values\": 8,\n        \"samples\": [\n          1.085331945073359,\n          1.125,\n          777.0\n        ],\n        \"semantic_type\": \"\",\n        \"description\": \"\"\n      }\n    },\n    {\n      \"column\": \"Healthy life\",\n      \"properties\": {\n        \"dtype\": \"number\",\n        \"std\": 274.5137765357988,\n        \"min\": 0.005564754,\n        \"max\": 777.0,\n        \"num_unique_values\": 8,\n        \"samples\": [\n          0.6163564753050194,\n          0.649546981,\n          777.0\n        ],\n        \"semantic_type\": \"\",\n        \"description\": \"\"\n      }\n    },\n    {\n      \"column\": \"Freedom\",\n      \"properties\": {\n        \"dtype\": \"number\",\n        \"std\": 274.58131642620646,\n        \"min\": 0.00589,\n        \"max\": 777.0,\n        \"num_unique_values\": 8,\n        \"samples\": [\n          0.41373619793307587,\n          0.43245253,\n          777.0\n        ],\n        \"semantic_type\": \"\",\n        \"description\": \"\"\n      }\n    },\n    {\n      \"column\": \"Generosity\",\n      \"properties\": {\n        \"dtype\": \"number\",\n        \"std\": 274.62034044247247,\n        \"min\": 0.00199,\n        \"max\": 777.0,\n        \"num_unique_values\": 8,\n        \"samples\": [\n          0.21998237850836552,\n          0.202,\n          777.0\n        ],\n        \"semantic_type\": \"\",\n        \"description\": \"\"\n      }\n    },\n    {\n      \"column\": \"Corruption\",\n      \"properties\": {\n        \"dtype\": \"number\",\n        \"std\": 273.9489612868107,\n        \"min\": 0.001,\n        \"max\": 775.0,\n        \"num_unique_values\": 8,\n        \"samples\": [\n          0.12640672799612904,\n          0.092,\n          775.0\n        ],\n        \"semantic_type\": \"\",\n        \"description\": \"\"\n      }\n    },\n    {\n      \"column\": \"Year\",\n      \"properties\": {\n        \"dtype\": \"number\",\n        \"std\": 780.7521310580232,\n        \"min\": 1.417364432424796,\n        \"max\": 2019.0,\n        \"num_unique_values\": 8,\n        \"samples\": [\n          2016.9936061381075,\n          2017.0,\n          782.0\n        ],\n        \"semantic_type\": \"\",\n        \"description\": \"\"\n      }\n    }\n  ]\n}"
            }
          },
          "metadata": {},
          "execution_count": 4
        }
      ]
    },
    {
      "cell_type": "code",
      "source": [
        "data.shape"
      ],
      "metadata": {
        "colab": {
          "base_uri": "https://localhost:8080/"
        },
        "id": "2JKXREcvAgAf",
        "outputId": "9c3c607a-6694-423c-c321-30b8dc71bedc"
      },
      "execution_count": 5,
      "outputs": [
        {
          "output_type": "execute_result",
          "data": {
            "text/plain": [
              "(782, 10)"
            ]
          },
          "metadata": {},
          "execution_count": 5
        }
      ]
    },
    {
      "cell_type": "code",
      "source": [
        "data.isnull().sum()"
      ],
      "metadata": {
        "colab": {
          "base_uri": "https://localhost:8080/"
        },
        "id": "4TcxSJKFAg10",
        "outputId": "86b57f93-ed39-427e-c6e1-ce374fcc014a"
      },
      "execution_count": 6,
      "outputs": [
        {
          "output_type": "execute_result",
          "data": {
            "text/plain": [
              "Country            0\n",
              "Happiness rank     0\n",
              "Happiness Score    0\n",
              "GDP per capita     5\n",
              "Social support     5\n",
              "Healthy life       5\n",
              "Freedom            5\n",
              "Generosity         5\n",
              "Corruption         7\n",
              "Year               0\n",
              "dtype: int64"
            ]
          },
          "metadata": {},
          "execution_count": 6
        }
      ]
    },
    {
      "cell_type": "code",
      "source": [
        "data.duplicated()"
      ],
      "metadata": {
        "colab": {
          "base_uri": "https://localhost:8080/"
        },
        "id": "otFBKsRdAiV7",
        "outputId": "09cb7c5a-e785-4673-e3e8-4c4280ce2595"
      },
      "execution_count": 7,
      "outputs": [
        {
          "output_type": "execute_result",
          "data": {
            "text/plain": [
              "0      False\n",
              "1      False\n",
              "2      False\n",
              "3      False\n",
              "4      False\n",
              "       ...  \n",
              "777    False\n",
              "778    False\n",
              "779    False\n",
              "780    False\n",
              "781    False\n",
              "Length: 782, dtype: bool"
            ]
          },
          "metadata": {},
          "execution_count": 7
        }
      ]
    },
    {
      "cell_type": "code",
      "source": [
        "numeric_columns = data.select_dtypes(include=['float64', 'int64']).columns\n",
        "data[numeric_columns] = data[numeric_columns].fillna(data[numeric_columns].mean())"
      ],
      "metadata": {
        "id": "oiU9-UA1Al7Y"
      },
      "execution_count": 9,
      "outputs": []
    },
    {
      "cell_type": "code",
      "source": [
        "data.isnull().sum()"
      ],
      "metadata": {
        "colab": {
          "base_uri": "https://localhost:8080/"
        },
        "id": "MSWh4a8cA9un",
        "outputId": "54950935-ad99-4ac3-bfd0-3eb1e8ff2c11"
      },
      "execution_count": 10,
      "outputs": [
        {
          "output_type": "execute_result",
          "data": {
            "text/plain": [
              "Country            0\n",
              "Happiness rank     0\n",
              "Happiness Score    0\n",
              "GDP per capita     0\n",
              "Social support     0\n",
              "Healthy life       0\n",
              "Freedom            0\n",
              "Generosity         0\n",
              "Corruption         0\n",
              "Year               0\n",
              "dtype: int64"
            ]
          },
          "metadata": {},
          "execution_count": 10
        }
      ]
    },
    {
      "cell_type": "code",
      "source": [
        "data.drop(['Happiness rank', 'Happiness Score'], axis=1, inplace=True)"
      ],
      "metadata": {
        "id": "QkI79J1QCKkg"
      },
      "execution_count": 15,
      "outputs": []
    },
    {
      "cell_type": "code",
      "source": [
        "features_columns = ['Country', 'GDP per capita', 'Social support', 'Healthy life', 'Freedom', 'Generosity', 'Corruption', 'Year']\n",
        "data_filtered = data[features_columns]"
      ],
      "metadata": {
        "id": "Kfz-kdaRBSQ3"
      },
      "execution_count": 16,
      "outputs": []
    },
    {
      "cell_type": "code",
      "source": [
        "mapped_data = [(row[0], row[1:]) for row in data_filtered.values]"
      ],
      "metadata": {
        "id": "QwQHyqMTB0PL"
      },
      "execution_count": 17,
      "outputs": []
    },
    {
      "cell_type": "code",
      "source": [
        "happiness_scores = {}\n",
        "for country, features in mapped_data:\n",
        "    happiness_score = sum(features) / len(features)\n",
        "    happiness_scores[country] = happiness_score"
      ],
      "metadata": {
        "id": "LfwYRjxKB2YU"
      },
      "execution_count": 18,
      "outputs": []
    },
    {
      "cell_type": "code",
      "source": [
        "for country, score in happiness_scores.items():\n",
        "    print(f\"{country}: {score}\")"
      ],
      "metadata": {
        "colab": {
          "base_uri": "https://localhost:8080/"
        },
        "id": "M9wvAx1gB5F4",
        "outputId": "16b8e5d3-fa88-40db-c397-4694e4f6650f"
      },
      "execution_count": 19,
      "outputs": [
        {
          "output_type": "stream",
          "name": "stdout",
          "text": [
            "Switzerland: 289.1725714285714\n",
            "Iceland: 289.15614285714287\n",
            "Denmark: 289.1722857142857\n",
            "Norway: 289.18757142857146\n",
            "Canada: 289.15514285714283\n",
            "Finland: 289.1507142857143\n",
            "Netherlands: 289.15628571428573\n",
            "Sweden: 289.15671428571426\n",
            "New Zealand: 289.1687142857143\n",
            "Australia: 289.16214285714284\n",
            "Israel: 289.06771428571426\n",
            "Costa Rica: 289.0332857142857\n",
            "Austria: 289.12414285714283\n",
            "Mexico: 288.9762857142857\n",
            "United States: 289.0894285714286\n",
            "Brazil: 288.9742857142857\n",
            "Luxembourg: 289.1622857142857\n",
            "Ireland: 289.16785714285714\n",
            "Belgium: 289.0984285714286\n",
            "United Arab Emirates: 289.09714285714284\n",
            "United Kingdom: 289.13471428571427\n",
            "Oman: 288.48258428571427\n",
            "Venezuela: 288.9224285714286\n",
            "Singapore: 289.20799999999997\n",
            "Panama: 289.0257142857143\n",
            "Germany: 289.1192857142857\n",
            "Chile: 289.00685714285714\n",
            "Qatar: 289.11571428571426\n",
            "France: 289.0815714285714\n",
            "Argentina: 288.99885714285716\n",
            "Czech Republic: 289.0307142857143\n",
            "Uruguay: 289.04\n",
            "Colombia: 288.977\n",
            "Thailand: 289.033\n",
            "Saudi Arabia: 289.0294285714286\n",
            "Spain: 289.0608571428571\n",
            "Malta: 289.12985714285713\n",
            "Taiwan: 289.0574285714286\n",
            "Kuwait: 289.0512857142857\n",
            "Suriname: 288.4572514285714\n",
            "Trinidad and Tobago: 288.7306371047143\n",
            "El Salvador: 288.91742857142856\n",
            "Guatemala: 288.9432857142857\n",
            "Uzbekistan: 289.0318571428571\n",
            "Slovakia: 289.0142857142857\n",
            "Japan: 289.06971428571427\n",
            "South Korea: 288.9922857142857\n",
            "Ecuador: 288.9718571428572\n",
            "Bahrain: 289.0717142857143\n",
            "Italy: 289.0342857142857\n",
            "Bolivia: 288.9147142857143\n",
            "Moldova: 288.90062953257086\n",
            "Paraguay: 288.98357142857145\n",
            "Kazakhstan: 289.00885714285715\n",
            "Slovenia: 289.0712857142857\n",
            "Lithuania: 288.99242857142855\n",
            "Nicaragua: 288.94514285714286\n",
            "Peru: 288.9504285714286\n",
            "Belarus: 288.9702857142857\n",
            "Poland: 289.02542857142856\n",
            "Malaysia: 289.0017142857143\n",
            "Croatia: 288.96742857142857\n",
            "Libya: 288.96014285714284\n",
            "Russia: 288.9725714285714\n",
            "Jamaica: 288.9664285714286\n",
            "North Cyprus: 288.75160922942854\n",
            "Cyprus: 289.0235714285714\n",
            "Algeria: 288.8885714285714\n",
            "Kosovo: 288.947\n",
            "Turkmenistan: 288.9875714285714\n",
            "Mauritius: 289.0132857142857\n",
            "Hong Kong: 289.11742857142855\n",
            "Estonia: 289.05685714285715\n",
            "Indonesia: 288.973\n",
            "Vietnam: 288.9572857142857\n",
            "Turkey: 288.96214285714285\n",
            "Kyrgyzstan: 288.9347142857143\n",
            "Nigeria: 288.8191428571428\n",
            "Bhutan: 288.96171428571427\n",
            "Azerbaijan: 288.9324285714286\n",
            "Pakistan: 288.81842857142857\n",
            "Jordan: 288.92857142857144\n",
            "Montenegro: 288.9574285714286\n",
            "China: 288.96085714285715\n",
            "Zambia: 288.8324285714286\n",
            "Romania: 288.967\n",
            "Serbia: 288.957\n",
            "Portugal: 289.033\n",
            "Latvia: 288.981\n",
            "Philippines: 288.93414285714283\n",
            "Somaliland region: 288.2781428571428\n",
            "Morocco: 288.84214285714285\n",
            "Macedonia: 288.7868571428572\n",
            "Mozambique: 288.7727142857143\n",
            "Albania: 288.89385714285714\n",
            "Bosnia and Herzegovina: 288.92614285714285\n",
            "Lesotho: 288.76928571428573\n",
            "Dominican Republic: 288.98657142857144\n",
            "Laos: 288.9031428571428\n",
            "Mongolia: 288.9622857142857\n",
            "Swaziland: 288.8711937821864\n",
            "Greece: 288.9509974826441\n",
            "Lebanon: 288.9192857142857\n",
            "Hungary: 288.9627142857143\n",
            "Honduras: 288.93385714285716\n",
            "Tajikistan: 288.86742857142855\n",
            "Tunisia: 288.8595714285714\n",
            "Palestinian Territories: 288.85285714285715\n",
            "Bangladesh: 288.86414285714284\n",
            "Iran: 288.91814285714287\n",
            "Ukraine: 288.9034285714286\n",
            "Iraq: 288.86785714285713\n",
            "South Africa: 288.9077142857143\n",
            "Ghana: 288.80442857142856\n",
            "Zimbabwe: 288.7877142857143\n",
            "Liberia: 288.72485714285716\n",
            "India: 288.84157142857146\n",
            "Sudan: 288.627\n",
            "Haiti: 288.7164285714286\n",
            "Congo (Kinshasa): 288.72999999999996\n",
            "Nepal: 288.8802857142857\n",
            "Ethiopia: 288.7934285714286\n",
            "Sierra Leone: 288.7081428571429\n",
            "Mauritania: 288.7837142857143\n",
            "Kenya: 288.84742857142857\n",
            "Djibouti: 288.1882785714286\n",
            "Armenia: 288.8802857142857\n",
            "Botswana: 288.9005714285714\n",
            "Myanmar: 288.95842857142856\n",
            "Georgia: 288.83671428571427\n",
            "Malawi: 288.7137142857143\n",
            "Sri Lanka: 288.9722857142857\n",
            "Cameroon: 288.7707142857143\n",
            "Bulgaria: 288.97371428571427\n",
            "Egypt: 288.8542857142857\n",
            "Yemen: 288.7487142857143\n",
            "Angola: 288.66824802827614\n",
            "Mali: 288.76142857142855\n",
            "Congo (Brazzaville): 288.79285714285714\n",
            "Comoros: 288.71871428571427\n",
            "Uganda: 288.78742857142856\n",
            "Senegal: 288.8102857142857\n",
            "Gabon: 288.8862857142857\n",
            "Niger: 288.698\n",
            "Cambodia: 288.89085714285716\n",
            "Tanzania: 288.81428571428575\n",
            "Madagascar: 288.729\n",
            "Central African Republic: 288.6730474207248\n",
            "Chad: 288.6797142857143\n",
            "Guinea: 288.7441428571429\n",
            "Ivory Coast: 288.74357142857144\n",
            "Burkina Faso: 288.75885714285715\n",
            "Afghanistan: 288.68924802827615\n",
            "Rwanda: 288.8381428571428\n",
            "Benin: 288.6904285714286\n",
            "Syria: 288.70314285714284\n",
            "Burundi: 288.63557142857144\n",
            "Togo: 288.68742857142854\n",
            "Puerto Rico: 288.57587714285717\n",
            "Belize: 288.7495714285714\n",
            "Somalia: 288.8514203219886\n",
            "Somaliland Region: 288.3741871428571\n",
            "Namibia: 288.88514285714285\n",
            "South Sudan: 288.6398571428571\n",
            "Taiwan Province of China: 288.7565474882857\n",
            "Hong Kong S.A.R., China: 288.8452709104286\n",
            "Trinidad & Tobago: 289.01585714285716\n",
            "Northern Cyprus: 289.0467142857143\n",
            "North Macedonia: 288.95414285714287\n",
            "Gambia: 288.7847142857143\n"
          ]
        }
      ]
    },
    {
      "cell_type": "code",
      "source": [
        "import matplotlib.pyplot as plt"
      ],
      "metadata": {
        "id": "CQ_9UgNxB68i"
      },
      "execution_count": 20,
      "outputs": []
    },
    {
      "cell_type": "code",
      "source": [
        "sorted_scores = sorted(happiness_scores.items(), key=lambda x: x[1], reverse=True)"
      ],
      "metadata": {
        "id": "UoQWvgZMCYKW"
      },
      "execution_count": 24,
      "outputs": []
    },
    {
      "cell_type": "code",
      "source": [
        "top_10_countries = [x[0] for x in sorted_scores[:10]]\n",
        "top_10_scores = [x[1] for x in sorted_scores[:10]]"
      ],
      "metadata": {
        "id": "SXW0cae6Caiw"
      },
      "execution_count": 25,
      "outputs": []
    },
    {
      "cell_type": "code",
      "source": [
        "plt.figure(figsize=(10, 6))\n",
        "bars = plt.barh(top_10_countries, top_10_scores, color='skyblue')\n",
        "for bar, score in zip(bars, top_10_scores):\n",
        "    plt.text(bar.get_width(), bar.get_y() + bar.get_height() / 2, f'{score:.2f}',\n",
        "             va='center', ha='left', color='black')\n",
        "plt.xlabel('Happiness Score')\n",
        "plt.title('Top 10 Happiest Countries')\n",
        "plt.gca().invert_yaxis()"
      ],
      "metadata": {
        "colab": {
          "base_uri": "https://localhost:8080/",
          "height": 564
        },
        "id": "iVN8BgvBCv6H",
        "outputId": "3a395b82-3256-4330-d89c-8c7898d95d7f"
      },
      "execution_count": 28,
      "outputs": [
        {
          "output_type": "display_data",
          "data": {
            "text/plain": [
              "<Figure size 1000x600 with 1 Axes>"
            ],
            "image/png": "[encoded data removed]"
          },
          "metadata": {}
        }
      ]
    }
  ]
}